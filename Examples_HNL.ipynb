{
 "cells": [
  {
   "cell_type": "markdown",
   "metadata": {},
   "source": [
    "#### This file describes the functions used for the analysis of Heavy Neutral Leptons\n",
    "\n",
    "For visualisation and interactive plots, `matplotlib` and `ipywidgets` must be installed.\n",
    "\n",
    "Some of the functions need to specify the `hierarchy`: can be 'normal' ('n', 'nh', 'no') or 'inverse' ('i', 'ih', 'io'). \n",
    "\n",
    "The submodule contains the following:\n",
    "\n",
    "\n",
    "Neutrinos:\n",
    "- `NuFITNH`: dictionary with the NuFIT 2022 best-fit values for the neutrino oscillation parameters in the normal hierarchy (w/o Super-Kamiokande data)\n",
    "- `NuFITIH`: same for the inverse hierarchy\n",
    "- `PMNS(...)`: returns the PMNS matrix for a given set of parameters\n",
    "\n",
    "Heavy Neutral Leptons:\n",
    "- `HNL_decaywidths(M)` - returns the decay widths $\\Gamma_\\alpha$ for various decay channels of the HNL with mass `M`. \n",
    "- `HNL_branchings(M)` - returns a function that computes the branching ratios for the specified (xe, xmu)\n",
    "- `HNL_branchings_specific(M)` - same as above, but for a specific set of final states used in the analysis\n",
    "- `neutrino_priors(hierarchy)` - returns a function that computes the prior probability for the specified (xe, xmu) values in the assumption of a quasi-Dirac pair of HNLs, with $x_\\alpha =U^2_\\alpha/U^2$.\n",
    "- `CasasIbarra_2(...)` - returns the matrix of $M_I \\theta^2_{\\alpha I}$ for two HNLs\n",
    "- `CasasIbarra_3(...)` - same for three HNLs\n",
    "- `mixing_ratios_2(...)` - returns the mixing ratios $x_\\alpha$ for two HNLs.\n",
    "- `model_scan(...)` - performs a scan for the specified real model of HNLs (xe, xmu) to find the required number of events `N_real` that excludes all the points consistent with the seesaw mechanism.\n"
   ]
  },
  {
   "cell_type": "markdown",
   "metadata": {},
   "source": [
    "Import modules"
   ]
  },
  {
   "cell_type": "code",
   "execution_count": 21,
   "metadata": {},
   "outputs": [],
   "source": [
    "from modeltesting import neutrinos as hnl\n",
    "import numpy as np\n",
    "\n",
    "import matplotlib.pyplot as plt\n",
    "import matplotlib.colors as mcolors\n",
    "from matplotlib.colorbar import ColorbarBase\n",
    "import ipywidgets as widgets"
   ]
  },
  {
   "cell_type": "markdown",
   "metadata": {},
   "source": [
    "### Neutrinos"
   ]
  },
  {
   "cell_type": "markdown",
   "metadata": {},
   "source": [
    "NuFIT best-fit values for the neutrino oscillation parameters. The angles are in radians, and the mass-squared differences are in eV^2."
   ]
  },
  {
   "cell_type": "code",
   "execution_count": 9,
   "metadata": {},
   "outputs": [
    {
     "name": "stdout",
     "output_type": "stream",
     "text": [
      "Parameters: ['theta12', 'theta13', 'theta23', 'delta', 'dm2sol', 'dm2atm']\n",
      "{'theta12': 0.5831145030913054, 'theta13': 0.14957471689591403, 'theta23': 0.8639379797371931, 'delta': 4.991641660703783, 'dm2sol': 7.41e-05, 'dm2atm': 0.002498}\n",
      "{'theta12': 0.5831145030913054, 'theta13': 0.14905111812031574, 'theta23': 0.8569566627292158, 'delta': 3.4382986264288293, 'dm2sol': 7.41e-05, 'dm2atm': 0.002511}\n"
     ]
    }
   ],
   "source": [
    "print('Parameters:', list(hnl.NuFITIH.keys()))\n",
    "print(hnl.NuFITIH)\n",
    "print(hnl.NuFITNH)"
   ]
  },
  {
   "cell_type": "markdown",
   "metadata": {},
   "source": [
    "PMNS matrix accepts the following parameters:\n",
    "- `theta12`, `theta13`, `theta23`: the mixing angles\n",
    "- `delta`: the Dirac CP phase\n",
    "- `hierarchy`: the neutrino mass hierarchy ('normal' or 'inverted')\n",
    "- `eta1`, `eta2`, `eta3`: the Majorana phases. If not specified, they are set to zero."
   ]
  },
  {
   "cell_type": "code",
   "execution_count": 10,
   "metadata": {},
   "outputs": [
    {
     "name": "stdout",
     "output_type": "stream",
     "text": [
      "[[ 0.44601761+0.69463127j  0.29420613+0.4581989j  -0.1132632 -0.09603983j]\n",
      " [-0.16942768-0.21316663j  0.31202882+0.51940017j  0.40386133+0.62897675j]\n",
      " [ 0.24683822+0.42834662j -0.32641287-0.47938776j  0.34983566+0.54483675j]]\n"
     ]
    }
   ],
   "source": [
    "print(hnl.PMNS(hierarchy = 'n', \n",
    "               eta1 = 1, eta2 = 1, eta3 = 1,\n",
    "               **hnl.NuFITNH))"
   ]
  },
  {
   "cell_type": "markdown",
   "metadata": {},
   "source": [
    "### Heavy Neutral Leptons"
   ]
  },
  {
   "cell_type": "markdown",
   "metadata": {},
   "source": [
    "`HNL_decaywidths(M)` returns a dictionary \n",
    "\n",
    "```{decay channel:(decay width in GeV, what lepton flavor can mediate the decay)}```.\n",
    "\n",
    "where the decay widths $\\Gamma_\\alpha$ are normalized to $U_\\alpha^2 = 1$.\n",
    "\n",
    "**Note** that the dictionary contains the widths for both exclusive and inclusive decays. Below $M = 2$ GeV, decays into mesons should be used, and above $M = 2$ GeV, decays into quarks.\n",
    "\n"
   ]
  },
  {
   "cell_type": "code",
   "execution_count": 11,
   "metadata": {},
   "outputs": [
    {
     "data": {
      "text/plain": [
       "{'3nu': (1.7807394613853195e-13, 'emt'),\n",
       " 'nuee(e)': (1.0470748032945678e-13, 'e'),\n",
       " 'nuee(NC)': (2.2437317213455027e-14, 'mt'),\n",
       " 'nuemu': (1.7148521013140625e-13, 'em'),\n",
       " 'numumu(mu)': (9.794067037619258e-14, 'm'),\n",
       " 'numumu(NC)': (2.0300429859792644e-14, 'et'),\n",
       " 'nuetau': (0.0, 'et'),\n",
       " 'numutau': (0.0, 'mt'),\n",
       " 'nutautau(tau)': (0.0, 't'),\n",
       " 'nutautau(NC)': (0.0, 'em'),\n",
       " 'nupi': (7.674987078570727e-14, 'emt'),\n",
       " 'epi': (1.4548641399518057e-13, 'e'),\n",
       " 'mupi': (1.4334952664151823e-13, 'm'),\n",
       " 'nupipi': (5.395640567997518e-14, 'emt'),\n",
       " 'epipi': (3.543671528156786e-13, 'e'),\n",
       " 'mupipi': (3.492030083776612e-13, 'm'),\n",
       " 'eK': (8.903697306926598e-15, 'e'),\n",
       " 'muK': (8.725623360788066e-15, 'm'),\n",
       " 'nueta': (2.3149612998009156e-14, 'emt'),\n",
       " 'nuetaprime': (1.4780137529498152e-14, 'emt'),\n",
       " 'nuomega': (1.3711693852666959e-14, 'emt'),\n",
       " 'nuphi': (6.606543401739536e-14, 'emt'),\n",
       " 'nuqq': (3.2409458197212817e-13, 'emt'),\n",
       " 'eqq': (6.448057589676242e-13, 'e'),\n",
       " 'muqq': (6.205877022927838e-13, 'm'),\n",
       " 'tauqq': (0.0, 't')}"
      ]
     },
     "execution_count": 11,
     "metadata": {},
     "output_type": "execute_result"
    }
   ],
   "source": [
    "hnl.HNL_decaywidths(1.5)"
   ]
  },
  {
   "cell_type": "markdown",
   "metadata": {},
   "source": [
    "`HNL_branchings(M)` and `HNL_branchings_specific(M)` return a function that computes the branching ratios for the specified `(xe, xmu)` values. The difference is that `HNL_branchings_specific` returns the results for the visible final states"
   ]
  },
  {
   "cell_type": "code",
   "execution_count": 12,
   "metadata": {},
   "outputs": [
    {
     "data": {
      "text/plain": [
       "{'3nu': 0.20177155424628238,\n",
       " 'nuemu': 0.10686830370654346,\n",
       " 'nuetau': 0.0,\n",
       " 'numutau': 0.0,\n",
       " 'nupi': 0.0869635398801477,\n",
       " 'epi': 0.008242367990960633,\n",
       " 'mupi': 0.08121305058412866,\n",
       " 'nupipi': 0.06113678093662356,\n",
       " 'epipi': 0.020076269647505095,\n",
       " 'mupipi': 0.19783700893847989,\n",
       " 'eK': 0.000504428885615706,\n",
       " 'muK': 0.004943403079033918,\n",
       " 'nueta': 0.02623030205201671,\n",
       " 'nuetaprime': 0.016747039002441438,\n",
       " 'nuomega': 0.015536409676963741,\n",
       " 'nuphi': 0.07485724662537076,\n",
       " 'nuqq': 0.36722422872823396,\n",
       " 'eqq': 0.036530739896289424,\n",
       " 'muqq': 0.351586933274147,\n",
       " 'tauqq': 0.0,\n",
       " 'nuee': 0.030084138738120703,\n",
       " 'numumu': 0.06698815600976575,\n",
       " 'nutautau': 0.0}"
      ]
     },
     "execution_count": 12,
     "metadata": {},
     "output_type": "execute_result"
    }
   ],
   "source": [
    "branching_function = hnl.HNL_branchings(1.5)\n",
    "xe, xmu = 0.05, 0.5\n",
    "branching_function(xe, xmu)"
   ]
  },
  {
   "cell_type": "code",
   "execution_count": 13,
   "metadata": {},
   "outputs": [
    {
     "data": {
      "text/plain": [
       "{'ee': 0.030084138738120703,\n",
       " 'emu': 0.10686830370654346,\n",
       " 'mumu': 0.06698815600976575,\n",
       " 'NC': 0.2814713181735639,\n",
       " 'eCC': 0.028823066524081436,\n",
       " 'muCC': 0.28399346260164243}"
      ]
     },
     "execution_count": 13,
     "metadata": {},
     "output_type": "execute_result"
    }
   ],
   "source": [
    "branching_function = hnl.HNL_branchings_specific(1.5)\n",
    "xe, xmu = 0.05, 0.5\n",
    "branching_function(xe, xmu)"
   ]
  },
  {
   "cell_type": "markdown",
   "metadata": {},
   "source": [
    "`CasasIbarra_2` returns the matrix $M_I \\theta^2_{\\alpha I}$ for two HNLs. It requires the parameters:\n",
    "- `hierarchy`: the neutrino mass hierarchy\n",
    "- `eta`: single Majorana phase of the active neutrinos\n",
    "- `reomega` and `imomega`: the real and imaginary parts of the complex parameter $\\omega$. For large values of `abs(omega)`, the quasi-Dirac limit is recovered and `reomega` drops out.\n",
    "\n",
    "The function automatically uses the best-fit values of neutrino oscillation parameters the specified hierarchy, but these can be overwritten.\n",
    "\n",
    "`mixing_ratios_2` returns the mixing ratios for the two HNLs. If `reomega` or `imomega` are not specified, the quasi-Dirac limit with `imomega` $\\to +\\infty$ is assumed."
   ]
  },
  {
   "cell_type": "code",
   "execution_count": 14,
   "metadata": {},
   "outputs": [
    {
     "name": "stdout",
     "output_type": "stream",
     "text": [
      "\\sqrt{M_I} \\theta_{\\alpha I} matrix:\n",
      "[[-0.01241879-0.00361884j  0.01255141+0.00192498j]\n",
      " [-0.01251092-0.02807925j -0.01441219+0.02528904j]\n",
      " [-0.05701256-0.05167682j  0.03675828+0.04898285j]]\n",
      "\n",
      "Mixing ratios:\n",
      "[0.11460398 0.26757183 0.61782419]\n"
     ]
    }
   ],
   "source": [
    "print(r'\\sqrt{M_I} \\theta_{\\alpha I} matrix:')\n",
    "print(hnl.CasasIbarra_2(\n",
    "    eta = 1, reomega = 1, imomega = 1, \n",
    "    hierarchy = 'n'\n",
    "                  ))\n",
    "print('\\nMixing ratios:')\n",
    "print(hnl.mixing_ratios_2(\n",
    "    eta = 1, reomega = 1, imomega = 1, \n",
    "    hierarchy = 'n'\n",
    "))"
   ]
  },
  {
   "cell_type": "markdown",
   "metadata": {},
   "source": [
    "Visualisation of the mixing ratios for the two HNLs"
   ]
  },
  {
   "cell_type": "code",
   "execution_count": 19,
   "metadata": {},
   "outputs": [
    {
     "data": {
      "application/vnd.jupyter.widget-view+json": {
       "model_id": "0e992c97efd74efb8a0f1b0afecde8b5",
       "version_major": 2,
       "version_minor": 0
      },
      "text/plain": [
       "interactive(children=(FloatSlider(value=3.141592653589793, description='reomega', max=6.283185307179586, step=…"
      ]
     },
     "metadata": {},
     "output_type": "display_data"
    },
    {
     "data": {
      "text/plain": [
       "<function __main__.visualize_ratios(reomega, imomega, hierarchy='n')>"
      ]
     },
     "execution_count": 19,
     "metadata": {},
     "output_type": "execute_result"
    }
   ],
   "source": [
    "\n",
    "def visualize_ratios(reomega, imomega, hierarchy = 'n'):\n",
    "    etas = np.linspace(0, 2*np.pi, 100)\n",
    "\n",
    "    def _(eta):\n",
    "        u = hnl.CasasIbarra_2(\n",
    "            eta = eta, reomega = reomega, imomega = imomega, \n",
    "            hierarchy = hierarchy\n",
    "        )\n",
    "        u1, u2 = u[:, 0], u[:, 1]\n",
    "        u1 = np.abs(u1)\n",
    "        u2 = np.abs(u2)\n",
    "        x1, x2 = u1/np.sum(u1), u2/np.sum(u2)\n",
    "        x = hnl.mixing_ratios_2(\n",
    "            eta = eta, reomega = reomega, imomega = imomega, \n",
    "            hierarchy = hierarchy)\n",
    "        return x1, x2, x\n",
    "        \n",
    "    mr1, mr2, mr = np.zeros((len(etas),3)), np.zeros((len(etas),3)), np.zeros((len(etas),3))\n",
    "    for i, eta in enumerate(etas):\n",
    "        mr1[i, :], mr2[i, :], mr[i, :] = _(eta)\n",
    "\n",
    "    fig, ax = plt.subplots(figsize = (10, 10))\n",
    "\n",
    "    ax.plot(mr[:,0], mr[:,1], label = 'Total mixing ratios')\n",
    "    ax.plot(mr1[:,0], mr1[:,1], label = 'Mixing ratios of $N_1$')\n",
    "    ax.plot(mr2[:,0], mr2[:,1], label = 'Mixing ratios of $N_2$')\n",
    "    ax.set_xlabel('$x_e$')\n",
    "    ax.set_ylabel('$x_\\mu$')\n",
    "    ax.set_xlim(0, 1) \n",
    "    ax.set_ylim(0, 1)\n",
    "    ax.legend()\n",
    "    ax.fill_between([0, 1], [1, 0], [1, 1], color = 'grey', alpha = 0.2)\n",
    "\n",
    "\n",
    "    eta_points = [0, np.pi/2, np.pi, 3*np.pi/2]\n",
    "    color_points = ['red', 'green', 'blue', 'black']\n",
    "    \n",
    "    for i, eta in enumerate(eta_points):\n",
    "        x1, x2, x = _(eta)\n",
    "        ax.scatter(x1[0], x1[1], color = color_points[i], marker = '.', s = 150)\n",
    "        ax.scatter(x2[0], x2[1], color = color_points[i], marker = '.', s = 150)\n",
    "        ax.scatter(x[0], x[1], color = color_points[i], marker = '.', s = 150)\n",
    "    \n",
    "    cbar_ax = fig.add_axes([0.9, 0.35, 0.02, 0.3]) \n",
    "    cmap = mcolors.ListedColormap(color_points)\n",
    "    cbar = ColorbarBase(cbar_ax, \n",
    "                    cmap=cmap,\n",
    "                    values=eta_points,\n",
    "                    ticks=eta_points, \n",
    "                    orientation='vertical')\n",
    "    cbar.set_ticklabels(['0', '$\\pi/2$', '$\\pi$', '$3\\pi/2$'])\n",
    "\n",
    "\n",
    "    plt.show()\n",
    "\n",
    "\n",
    "widgets.interact(visualize_ratios,\n",
    "                    reomega = widgets.FloatSlider(min = 0, max = 2*np.pi, step = 0.01, value = np.pi),\n",
    "                    imomega = widgets.FloatSlider(min = -3, max = 3, step = 0.01, value = 0.5),\n",
    "                    hierarchy = widgets.RadioButtons(options=['n', 'i'], value='i', description='Hierarchy:', disabled=False)\n",
    "                    )\n",
    "\n"
   ]
  },
  {
   "cell_type": "markdown",
   "metadata": {},
   "source": [
    "`Casas_Ibarra3` matrix does the same but for three HNLs. It requires the parameters:\n",
    "- `hierarchy`: the neutrino mass hierarchy\n",
    "- `eta1`, `eta2` - two Majorana phases of the active neutrinos\n",
    "- `mnu0` - the lightest neutrino mass\n",
    "- `reomega1`, `imomega1`, `reomega2`, `imomega2`, `reomega3`, `imomega3` - the real and imaginary parts of the complex parameters $\\omega_{1,2,3}$."
   ]
  },
  {
   "cell_type": "code",
   "execution_count": 16,
   "metadata": {},
   "outputs": [
    {
     "data": {
      "application/vnd.jupyter.widget-view+json": {
       "model_id": "52e5d5e4cf35435680e7f7c5f282ad52",
       "version_major": 2,
       "version_minor": 0
      },
      "text/plain": [
       "interactive(children=(FloatSlider(value=0.02, description='mnu0, eV', max=0.1, step=0.01), FloatSlider(value=3…"
      ]
     },
     "metadata": {},
     "output_type": "display_data"
    },
    {
     "data": {
      "text/plain": [
       "<function __main__.visualize_ratios3(mnu0, eta2, reomega1, imomega1, reomega2, imomega2, reomega3, imomega3, hierarchy='n')>"
      ]
     },
     "execution_count": 16,
     "metadata": {},
     "output_type": "execute_result"
    }
   ],
   "source": [
    "import matplotlib.pyplot as plt\n",
    "import matplotlib.colors as mcolors\n",
    "from matplotlib.colorbar import ColorbarBase\n",
    "import ipywidgets as widgets\n",
    "\n",
    "def visualize_ratios3(mnu0, eta2, reomega1, imomega1, reomega2, imomega2, reomega3, imomega3, hierarchy = 'n'):\n",
    "    etas = np.linspace(0, 2*np.pi, 100)\n",
    "\n",
    "    def _(eta):\n",
    "        u = hnl.CasasIbarra_3(eta1 = eta,\n",
    "            eta2 = eta2, mnu0 = mnu0,\n",
    "            reomega1 = reomega1, imomega1 = imomega1, \n",
    "            reomega2 = reomega2, imomega2 = imomega2, \n",
    "            reomega3 = reomega3, imomega3 = imomega3, \n",
    "            hierarchy = hierarchy\n",
    "        )\n",
    "        u1, u2, u3 = u[:, 0], u[:, 1], u[:, 2]\n",
    "        u1 = np.abs(u1)\n",
    "        u2 = np.abs(u2)\n",
    "        u3 = np.abs(u3)\n",
    "        x1, x2, x3 = u1/np.sum(u1), u2/np.sum(u2), u3/np.sum(u3)\n",
    "        return x1, x2, x3, (u1+u2+u3)/np.sum(u1+u2+u3)\n",
    "        \n",
    "    mr1, mr2, mr3, mr = np.zeros((len(etas),3)), np.zeros((len(etas),3)), np.zeros((len(etas),3)), np.zeros((len(etas),3))\n",
    "    for i, eta in enumerate(etas):\n",
    "        mr1[i, :], mr2[i, :], mr3[i,:], mr[i, :] = _(eta)\n",
    "\n",
    "    fig, ax = plt.subplots(figsize = (10, 10))\n",
    "\n",
    "    ax.plot(mr[:,0], mr[:,1], label = 'Total mixing ratios')\n",
    "    ax.plot(mr1[:,0], mr1[:,1], label = 'Mixing ratios of $N_1$')\n",
    "    ax.plot(mr2[:,0], mr2[:,1], label = 'Mixing ratios of $N_2$')\n",
    "    ax.plot(mr3[:,0], mr3[:,1], label = 'Mixing ratios of $N_3$')\n",
    "    ax.set_xlabel('$x_e$')\n",
    "    ax.set_ylabel('$x_\\mu$')\n",
    "    ax.set_xlim(0, 1) \n",
    "    ax.set_ylim(0, 1)\n",
    "    ax.legend()\n",
    "    ax.fill_between([0, 1], [1, 0], [1, 1], color = 'grey', alpha = 0.2)\n",
    "\n",
    "\n",
    "    eta_points = [0, np.pi/2, np.pi, 3*np.pi/2]\n",
    "    color_points = ['red', 'green', 'blue', 'black']\n",
    "    \n",
    "    for i, eta in enumerate(eta_points):\n",
    "        x1, x2, x3, x = _(eta)\n",
    "        ax.scatter(x1[0], x1[1], color = color_points[i], marker = '.', s = 150)\n",
    "        ax.scatter(x2[0], x2[1], color = color_points[i], marker = '.', s = 150)\n",
    "        ax.scatter(x3[0], x3[1], color = color_points[i], marker = '.', s = 150)\n",
    "        ax.scatter(x[0], x[1], color = color_points[i], marker = '.', s = 150)\n",
    "    \n",
    "    cbar_ax = fig.add_axes([0.9, 0.35, 0.02, 0.3]) \n",
    "    cmap = mcolors.ListedColormap(color_points)\n",
    "    cbar = ColorbarBase(cbar_ax, \n",
    "                    cmap=cmap,\n",
    "                    values=eta_points,\n",
    "                    ticks=eta_points, \n",
    "                    orientation='vertical')\n",
    "    cbar.set_ticklabels(['0', '$\\pi/2$', '$\\pi$', '$3\\pi/2$'])\n",
    "\n",
    "\n",
    "    plt.show()\n",
    "\n",
    "\n",
    "widgets.interact(visualize_ratios3,\n",
    "                    mnu0 = widgets.FloatSlider(min = 0, max = 0.1, step = 0.01, value = 0.02, description = r'mnu0, eV'),\n",
    "                    eta2 = widgets.FloatSlider(min = 0, max = 2*np.pi, step = 0.01, value = np.pi),\n",
    "                    reomega1 = widgets.FloatSlider(min = 0, max = 2*np.pi, step = 0.01, value = np.pi),\n",
    "                    imomega1 = widgets.FloatSlider(min = -5, max = 5, step = 0.01, value = 0.5),\n",
    "                    reomega2 = widgets.FloatSlider(min = 0, max = 2*np.pi, step = 0.01, value = np.pi),\n",
    "                    imomega2 = widgets.FloatSlider(min = -5, max = 5, step = 0.01, value = 0.5),\n",
    "                    reomega3 = widgets.FloatSlider(min = 0, max = 2*np.pi, step = 0.01, value = np.pi),\n",
    "                    imomega3 = widgets.FloatSlider(min = -5, max = 5, step = 0.01, value = 0.5),\n",
    "                    hierarchy = widgets.RadioButtons(options=['n', 'i'], value='i', description='Hierarchy:', disabled=False)\n",
    "                    )\n",
    "\n"
   ]
  },
  {
   "cell_type": "markdown",
   "metadata": {},
   "source": [
    "`neutrino_priors(hierarchy)` returns a function that computes the prior probability for the specified `(xe, xmu)` values for two HNLs."
   ]
  },
  {
   "cell_type": "code",
   "execution_count": 22,
   "metadata": {},
   "outputs": [
    {
     "data": {
      "image/png": "[encoded data removed]",
      "text/plain": [
       "<Figure size 1000x450 with 4 Axes>"
      ]
     },
     "metadata": {},
     "output_type": "display_data"
    }
   ],
   "source": [
    "normal_prior = hnl.neutrino_priors('normal')\n",
    "inverted_prior = hnl.neutrino_priors('inverse')\n",
    "\n",
    "xe_grid = np.linspace(0, 1, 100)\n",
    "xmu_grid = np.linspace(0, 1, 100)\n",
    "\n",
    "fig, ax = plt.subplots(1, 2, figsize = (10, 4.5))\n",
    "ax[0].pcolormesh(xe_grid, xmu_grid, normal_prior(xe_grid, xmu_grid, grid = True).T, vmin = 0.1, vmax = 1)\n",
    "ax[1].pcolormesh(xe_grid, xmu_grid, inverted_prior(xe_grid, xmu_grid, grid = True).T,\n",
    "                 norm = mcolors.Normalize(vmin = 0.1, vmax = 1))\n",
    "ax[0].set_title('Normal hierarchy, prior > 10%')\n",
    "ax[1].set_title('Inverse hierarchy, prior > 10%')\n",
    "fig.colorbar(ax[1].collections[0], ax = ax[1])\n",
    "fig.colorbar(ax[0].collections[0], ax = ax[0])\n",
    "ax[0].set_xlabel('$x_e$')\n",
    "ax[0].set_ylabel('$x_\\mu$')\n",
    "ax[1].set_xlabel('$x_e$')\n",
    "ax[1].set_ylabel('$x_\\mu$')\n",
    "\n",
    "fig.tight_layout()\n",
    "\n",
    "plt.show()"
   ]
  },
  {
   "cell_type": "markdown",
   "metadata": {},
   "source": [
    "`model_scan`: computes `N_real` for a model with the specified `(xe, xmu)` to exclude all the points consistent with the seesaw mechanism. Returns a dictionary with various data. The parameters are:\n",
    "- `branching_function`: function `branching_function(xe,xmu)` that returns an array of branchings\n",
    "- `reference_point`: array `[xe, xmu]` for the reference point\n",
    "- `backgrounds = None`: array of backgrounds for the visible final states. If not specified, the backgrounds are set to zero.\n",
    "- `prior`: function `prior(xe, xmu)` that returns the prior probability\n",
    "- `Nsamples = 10000`: number of samples to generate\n",
    "- `estimate_only = True`: quick scan using the starting rough estimate of the number of events\n",
    "- `exclusion_probability = 0.9`: the desired exclusion probability\n",
    "- `exclusion_limit = 0.9`: CL limit to use for the exclusion\n",
    "- `logs = False`: print logs"
   ]
  },
  {
   "cell_type": "code",
   "execution_count": 27,
   "metadata": {},
   "outputs": [
    {
     "name": "stdout",
     "output_type": "stream",
     "text": [
      "Finished estimates\n",
      "Critical point data: {'Nreal': 75.09975732842479, 'tested_point': (0.12, 0.225), 'Ntested': 81.08190881958753, 'estimate': True, 'experimental_CL': 0.8904083855086047, 'neutrino_prior': 0.9124785729646453}\n",
      "\n",
      "The required number of events to exclude [0.33 0.33] = 75.09975732842479\n",
      "The best-fit model is (0.12, 0.225) with Nr = 75.09975732842479 and Nf = 81.08190881958753\n",
      "The required experimental CL = 0.8904083855086047, prior = 0.9124785729646453\n",
      "\n"
     ]
    },
    {
     "data": {
      "text/plain": [
       "{'Nreal': 75.09975732842479,\n",
       " 'tested_point': (0.12, 0.225),\n",
       " 'Ntested': 81.08190881958753,\n",
       " 'estimate': True,\n",
       " 'experimental_CL': 0.8904083855086047,\n",
       " 'neutrino_prior': 0.9124785729646453}"
      ]
     },
     "execution_count": 27,
     "metadata": {},
     "output_type": "execute_result"
    }
   ],
   "source": [
    "HNL_mass = 1.5\n",
    "branching_function = hnl.HNL_branchings_specific(HNL_mass)\n",
    "prior = hnl.neutrino_priors('normal')\n",
    "reference_point = np.array([0.33, 0.33])\n",
    "\n",
    "\n",
    "hnl.model_scan(\n",
    "    branching_function=branching_function,\n",
    "    prior=prior,\n",
    "    reference_point=reference_point,\n",
    "    estimate_only=True,\n",
    "    logs = True\n",
    ")"
   ]
  },
  {
   "cell_type": "markdown",
   "metadata": {},
   "source": [
    "Proper computation, not using the rough estimate"
   ]
  },
  {
   "cell_type": "code",
   "execution_count": 26,
   "metadata": {},
   "outputs": [
    {
     "name": "stdout",
     "output_type": "stream",
     "text": [
      "Finished estimates\n",
      "Critical point data: {'Nreal': 75.09975732842479, 'tested_point': (0.12, 0.225), 'Ntested': 81.08190881958753, 'estimate': True, 'experimental_CL': 0.8904083855086047, 'neutrino_prior': 0.9124785729646453}\n",
      "\n",
      "The required number of events to exclude [0.33 0.33] = 137.46207572307503\n",
      "The best-fit model is (0.12, 0.23) with Nr = 137.46207572307503 and Nf = 155.489184726986\n",
      "The required experimental CL = 0.8893165255995001, prior = 0.9034772403164488\n",
      "\n",
      "Time elapsed = 29.83 s\n"
     ]
    }
   ],
   "source": [
    "import time\n",
    "\n",
    "start = time.perf_counter()\n",
    "print(hnl.model_scan(\n",
    "    branching_function=branching_function,\n",
    "    prior=prior,\n",
    "    reference_point=reference_point,\n",
    "    estimate_only=False,\n",
    "    Nsamples = 10000,\n",
    "    logs = True\n",
    "))\n",
    "end = time.perf_counter()\n",
    "print(f'Time elapsed = {(end-start):.2f} s')"
   ]
  },
  {
   "cell_type": "code",
   "execution_count": null,
   "metadata": {},
   "outputs": [],
   "source": []
  }
 ],
 "metadata": {
  "kernelspec": {
   "display_name": "Python 3",
   "language": "python",
   "name": "python3"
  },
  "language_info": {
   "codemirror_mode": {
    "name": "ipython",
    "version": 3
   },
   "file_extension": ".py",
   "mimetype": "text/x-python",
   "name": "python",
   "nbconvert_exporter": "python",
   "pygments_lexer": "ipython3",
   "version": "3.10.9"
  }
 },
 "nbformat": 4,
 "nbformat_minor": 2
}
