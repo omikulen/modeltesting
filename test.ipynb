{
 "cells": [
  {
   "cell_type": "code",
   "execution_count": 1,
   "metadata": {},
   "outputs": [],
   "source": [
    "import numpy as np\n",
    "from modeltesting import neutrinos as HNL\n",
    "import ipywidgets as widgets\n",
    "import matplotlib.pyplot as plt"
   ]
  },
  {
   "cell_type": "code",
   "execution_count": 4,
   "metadata": {},
   "outputs": [
    {
     "name": "stdout",
     "output_type": "stream",
     "text": [
      "c:\\Users\\nimer\\Science_science\\modeltesting\\modeltesting\\neutrinos\\__init__.py\n"
     ]
    }
   ],
   "source": [
    "print(HNL.__file__)"
   ]
  },
  {
   "cell_type": "code",
   "execution_count": 2,
   "metadata": {},
   "outputs": [],
   "source": [
    "priors = HNL.neutrino_priors('n')"
   ]
  },
  {
   "cell_type": "code",
   "execution_count": null,
   "metadata": {},
   "outputs": [],
   "source": [
    "priors([0.05, 0.07, 0.1], [0.3, 0.5, 0.7])"
   ]
  },
  {
   "cell_type": "code",
   "execution_count": 3,
   "metadata": {},
   "outputs": [
    {
     "name": "stdout",
     "output_type": "stream",
     "text": [
      "\n",
      "\n",
      "# Documentation for `neutrino_priors` and Nested `_` Function\n",
      "\n",
      "## `neutrino_priors(hierarchy)`\n",
      "\n",
      "### Overview\n",
      "\n",
      "The `neutrino_priors` function handles the extraction of neutrino priors from a `.npy` file. It returns a vectorized function that takes sets of \\( (x_e, x_{\\mu}) \\) and returns the corresponding priors.\n",
      "\n",
      "### Parameters\n",
      "\n",
      "- `hierarchy` (string): The type of hierarchy (e.g., \"NH\" for Normal Hierarchy or \"IH\" for Inverted Hierarchy).\n",
      "\n",
      "### Returns\n",
      "\n",
      "- Vectorized function `_`: This function accepts input in the forms \\( \\_(\text{array}(x_e), \text{array}(x_{\\mu})) \\) and \\( \\_(\text{array}(x_e, x_{\\mu})) \\) of shape \\( (N, 2) \\) or \\( (2, N) \\).\n",
      "\n",
      "### Example Usage\n",
      "\n",
      "```python\n",
      "prior_func = neutrino_priors(\"NH\")\n",
      "priors = prior_func(array_xe, array_xmu)\n",
      "```\n",
      "\n",
      "### Internals\n",
      "\n",
      "- The function uses `scipy.interpolate.RegularGridInterpolator` to create a vectorized function from the loaded `.npy` data.\n",
      "\n",
      "---\n",
      "\n",
      "## Nested Function `_(*args, grid=False)`\n",
      "\n",
      "### Overview\n",
      "\n",
      "The nested function `_` takes either one or two arguments to return the priors. It is designed to work with different input shapes and forms.\n",
      "\n",
      "### Parameters\n",
      "\n",
      "- `*args`: One or two arrays representing \\( x_e \\) and \\( x_{\\mu} \\). Can be in the form \\( (x_e, x_{\\mu}) \\) or \\( ((x_e, x_{\\mu})) \\) of shape \\( (N, 2) \\) or \\( (2, N) \\).\n",
      "- `grid` (boolean, optional): Whether to create a meshgrid from the inputs. Defaults to `False`.\n",
      "\n",
      "### Returns\n",
      "\n",
      "- Array of priors corresponding to the input \\( x_e \\) and \\( x_{\\mu} \\).\n",
      "\n",
      "### Example Usage\n",
      "\n",
      "```python\n",
      "prior_func = neutrino_priors(\"NH\")\n",
      "priors = prior_func(array_xe, array_xmu)\n",
      "```\n",
      "\n",
      "or\n",
      "\n",
      "```python\n",
      "priors = prior_func(array_xe_and_xmu)\n",
      "```\n",
      "\n",
      "---\n",
      "\n",
      "\n",
      "    \n"
     ]
    }
   ],
   "source": [
    "print(HNL.neutrino_priors.__doc__)"
   ]
  },
  {
   "cell_type": "code",
   "execution_count": 5,
   "metadata": {},
   "outputs": [
    {
     "data": {
      "text/plain": [
       "array([0.99966543, 0.99956093, 0.98186311, 0.        ])"
      ]
     },
     "execution_count": 5,
     "metadata": {},
     "output_type": "execute_result"
    }
   ],
   "source": [
    "priors([0.07, 0.05, 0.03, 0.5], [0.4,0.5,0.6, 0.2])\n",
    "print"
   ]
  },
  {
   "cell_type": "code",
   "execution_count": 13,
   "metadata": {},
   "outputs": [
    {
     "name": "stdout",
     "output_type": "stream",
     "text": [
      "(100, 100)\n"
     ]
    },
    {
     "data": {
      "image/png": "[encoded data removed]",
      "text/plain": [
       "<Figure size 700x600 with 2 Axes>"
      ]
     },
     "metadata": {},
     "output_type": "display_data"
    }
   ],
   "source": [
    "x = np.linspace(0.00, 1, 100, endpoint=False)\n",
    "y = np.linspace(0.00, 1, 100, endpoint=False)\n",
    "vals = priors(x, y, grid = True)\n",
    "print(vals.shape)\n",
    "plt.figure(figsize=(7,6))\n",
    "plt.pcolormesh(x, y, vals.T)\n",
    "plt.xlabel('$x_e$')\n",
    "plt.ylabel('$x_{\\\\mu}$')\n",
    "# plt.contourf(x, y, vals)\n",
    "plt.colorbar()\n",
    "plt.show()\n"
   ]
  },
  {
   "cell_type": "code",
   "execution_count": 18,
   "metadata": {},
   "outputs": [
    {
     "data": {
      "text/plain": [
       "array([[0.99001042, 0.6787437 , 0.59262157],\n",
       "       [0.        , 0.        , 0.        ],\n",
       "       [0.        , 0.        , 0.        ]])"
      ]
     },
     "execution_count": 18,
     "metadata": {},
     "output_type": "execute_result"
    }
   ],
   "source": [
    "priors([0.1, 0.2, 0.3], [0.4,0.5,0.6], grid = True)\n",
    "# priors([[0.1, 0.4], [0.2, 0.5], [0.3, 0.6]])"
   ]
  },
  {
   "cell_type": "code",
   "execution_count": 2,
   "metadata": {},
   "outputs": [
    {
     "data": {
      "text/plain": [
       "array([[ -14.3850231  -21.26885793j,   14.38154122 +21.2694849j ],\n",
       "       [ 135.92814492+103.26756592j, -135.95970695-103.26775434j],\n",
       "       [  99.10774022 -85.6281615j ,  -99.1319468  +85.62831773j]])"
      ]
     },
     "execution_count": 2,
     "metadata": {},
     "output_type": "execute_result"
    }
   ],
   "source": [
    "HNL.CasasIbarra_2(hierarchy = 'n', eta = 0, imomega = 5, reomega = 0)"
   ]
  },
  {
   "cell_type": "code",
   "execution_count": 6,
   "metadata": {},
   "outputs": [
    {
     "data": {
      "text/plain": [
       "array([[ 1.28454939e+00+9.42935293e-17j, -1.30366463e+00-9.61437203e-17j],\n",
       "       [ 6.52497722e-02+4.56574335e-02j, -5.11429167e-02-4.13131453e-02j],\n",
       "       [ 6.38885718e-03-1.66738902e-02j, -2.63450905e-04+1.18983009e-02j]])"
      ]
     },
     "execution_count": 6,
     "metadata": {},
     "output_type": "execute_result"
    }
   ],
   "source": [
    "deg = np.pi/180\n",
    "HNL.CasasIbarra_2({'theta23':0.842, 'delta':3.87, 'dm2atm':2.523e-3},\n",
    "                        hierarchy = 'i', \n",
    "                        eta = np.pi/2, imomega = 2, reomega = np.pi/2)"
   ]
  },
  {
   "cell_type": "code",
   "execution_count": 7,
   "metadata": {},
   "outputs": [
    {
     "data": {
      "text/plain": [
       "array([[ 1.15141141e+05-3.96734150e+05j, -1.15167947e+05+3.96264529e+05j,\n",
       "         2.67973657e+01+4.69554113e+02j],\n",
       "       [ 5.69731854e+03-4.89716385e+03j, -5.69344980e+03+4.88997677e+03j,\n",
       "        -3.89092557e+00+7.18107712e+00j],\n",
       "       [ 7.69547591e+05-1.31355168e+06j, -7.69162199e+05+1.31184675e+06j,\n",
       "        -3.85406852e+02+1.70490113e+03j]])"
      ]
     },
     "execution_count": 7,
     "metadata": {},
     "output_type": "execute_result"
    }
   ],
   "source": [
    "deg = np.pi/180\n",
    "HNL.CasasIbarra_3({'theta23':0.842, 'delta':3.87, 'dm2atm':2.523e-3, 'eta1':0.5, 'eta2':1.5},\n",
    "    hierarchy = 'i', \n",
    "    mnu0 = 0.1,\n",
    "    imomega1 = 4, reomega1 = 0.1, \n",
    "    imomega2 = -2, reomega2 = 0.3, \n",
    "    imomega3 = 4, reomega3 = 0.9\n",
    ")"
   ]
  },
  {
   "cell_type": "code",
   "execution_count": 2,
   "metadata": {},
   "outputs": [],
   "source": [
    "def mixing_ratios(eta, imomega = 10, reomega = 0, **kwargs):\n",
    "    mu2 = HNL.CasasIbarra_2(eta = eta, imomega = imomega, reomega = reomega, **kwargs)\n",
    "    mu2 = np.sum(np.abs(mu2), axis = 1)\n",
    "    return mu2/np.sum(mu2)\n",
    "\n",
    "def mixing_ratios_2(eta, imomega = 10, reomega = 0):\n",
    "    mu2 = HNL.CasasIbarra_2(hierarchy = 'i', eta = eta, imomega = imomega, reomega = reomega)\n",
    "    mu2 = np.abs(mu2)\n",
    "    mu2 = mu2/np.sum(mu2, axis = 0)[np.newaxis, :]\n",
    "    return mu2"
   ]
  },
  {
   "cell_type": "code",
   "execution_count": 32,
   "metadata": {},
   "outputs": [
    {
     "data": {
      "application/vnd.jupyter.widget-view+json": {
       "model_id": "61dff7c3c9cb4eb0b17d006ae20315a1",
       "version_major": 2,
       "version_minor": 0
      },
      "text/plain": [
       "interactive(children=(FloatSlider(value=0.5, description='eta', max=6.28, step=0.01), FloatSlider(value=0.0, d…"
      ]
     },
     "metadata": {},
     "output_type": "display_data"
    },
    {
     "data": {
      "text/plain": [
       "<function __main__._(eta, imomega=10, reomega=0)>"
      ]
     },
     "execution_count": 32,
     "metadata": {},
     "output_type": "execute_result"
    }
   ],
   "source": [
    "def _(eta, imomega = 10, reomega = 0):\n",
    "    \n",
    "    a, b = mixing_ratios_2(eta, imomega, reomega).T\n",
    "    plt.figure(figsize = (5, 5))\n",
    "    plt.scatter(a[0], a[1])\n",
    "    plt.scatter(b[0], b[1])\n",
    "    plt.xlim(0, 1)\n",
    "    plt.ylim(0, 1)\n",
    "    plt.show()\n",
    "\n",
    "widgets.interact(_, eta = widgets.FloatSlider(min = 0, max = 6.28, step = 0.01, value = 0.5),\n",
    "                 imomega = widgets.FloatSlider(min = -5, max = 5, step = 0.01, value = 0),\n",
    "                    reomega = widgets.FloatSlider(min = 0, max = 6.28, step = 0.01, value = 0))"
   ]
  },
  {
   "cell_type": "code",
   "execution_count": 9,
   "metadata": {},
   "outputs": [
    {
     "data": {
      "text/plain": [
       "(5e-05, 0.001)"
      ]
     },
     "execution_count": 9,
     "metadata": {},
     "output_type": "execute_result"
    }
   ],
   "source": [
    "HNL.NuFITIH['dm2sol'], HNL.NuFITIH['dm2atm']"
   ]
  },
  {
   "cell_type": "code",
   "execution_count": 17,
   "metadata": {},
   "outputs": [
    {
     "data": {
      "application/vnd.jupyter.widget-view+json": {
       "model_id": "00b7fe03149d452f81e613378879cc18",
       "version_major": 2,
       "version_minor": 0
      },
      "text/plain": [
       "interactive(children=(FloatSlider(value=4.991641660703783, description='delta', max=6.28, step=0.01), FloatSli…"
      ]
     },
     "metadata": {},
     "output_type": "display_data"
    },
    {
     "data": {
      "text/plain": [
       "<function __main__._(delta, theta12, theta13, theta23, dm2sol, dm2atm)>"
      ]
     },
     "execution_count": 17,
     "metadata": {},
     "output_type": "execute_result"
    }
   ],
   "source": [
    "etas = np.linspace(0, 2*np.pi, 1000)\n",
    "import ipywidgets as widgets\n",
    "from matplotlib.collections import LineCollection\n",
    "\n",
    "def _(delta, theta12, theta13, theta23, dm2sol, dm2atm):\n",
    "    vals = np.array([mixing_ratios(eta, imomega = -6, reomega = eta, \n",
    "                                   hierarchy = 'i',\n",
    "                                   delta = delta,\n",
    "                                    theta12 = theta12,\n",
    "                                    theta13 = theta13,\n",
    "                                    theta23 = theta23,\n",
    "                                    dm2sol = dm2sol,\n",
    "                                    dm2atm = dm2atm\n",
    "                                   ) for eta in etas])\n",
    "    \n",
    "    \n",
    "    points = np.array([vals[:,0], vals[:,1]]).T.reshape(-1, 1, 2)\n",
    "    segments = np.concatenate([points[:-1], points[1:]], axis=1)\n",
    "    # Create a LineCollection from the segments and set the colormap\n",
    "    lc = LineCollection(segments, cmap='rainbow')\n",
    "\n",
    "    fig, ax = plt.subplots(figsize = (6,6))\n",
    "    reduced_etas = np.copy(etas)\n",
    "    reduced_etas[reduced_etas > np.pi] -= np.pi\n",
    "    lc.set_array(np.abs(reduced_etas))  # Set the values used for colormapping\n",
    "\n",
    "    ax.add_collection(lc)  # Add the LineCollection to the axes\n",
    "    ax.autoscale()\n",
    "    \n",
    "    ax.set_xlim(0, 1)\n",
    "    ax.set_ylim(0, 1)\n",
    "    \n",
    "    plt.colorbar(lc, ax=ax)  # Add colorbar, optional\n",
    "    plt.show()\n",
    "\n",
    "bestfit = HNL.NuFITIH\n",
    "widgets.interact(_, \n",
    "                delta = widgets.FloatSlider(min = 0, max = 6.28, step = 0.01, value = bestfit['delta']),\n",
    "                theta12 = widgets.FloatSlider(min = 0, max = 6.28, step = 0.01, value = bestfit['theta12']),\n",
    "                theta13 = widgets.FloatSlider(min = 0, max = 6.28, step = 0.01, value = bestfit['theta13']),\n",
    "                theta23 = widgets.FloatSlider(min = 0, max = 6.28, step = 0.01, value = bestfit['theta23']),\n",
    "                dm2sol = widgets.FloatSlider(min = 1e-5, max = 1e-4, step = 1e-5, value = bestfit['dm2sol']),\n",
    "                dm2atm = widgets.FloatSlider(min = 5e-4, max = 5e-3, step = 1e-4, value = bestfit['dm2atm'])\n",
    "                 )\n"
   ]
  },
  {
   "cell_type": "code",
   "execution_count": 10,
   "metadata": {},
   "outputs": [],
   "source": [
    "etas = np.linspace(0, 6.28, 1000)\n",
    "vals = np.array([mixing_ratios(eta, imomega = 3, reomega = eta) for eta in etas])\n",
    "# vals2 = np.array([mixing_ratios(eta, imomega = 3, reomega = 0.*eta) for eta in etas])"
   ]
  },
  {
   "cell_type": "code",
   "execution_count": 11,
   "metadata": {},
   "outputs": [
    {
     "data": {
      "image/png": "[encoded data removed]",
      "text/plain": [
       "<Figure size 600x600 with 1 Axes>"
      ]
     },
     "metadata": {},
     "output_type": "display_data"
    }
   ],
   "source": [
    "import matplotlib.pyplot as plt\n",
    "plt.figure(figsize = (6,6))\n",
    "plt.plot(vals[:, 0], vals[:,1])\n",
    "# plt.plot(vals2[:, 0], vals2[:,1])\n",
    "plt.xlim(0, 1)\n",
    "plt.ylim(0, 1)\n",
    "plt.show()"
   ]
  },
  {
   "cell_type": "code",
   "execution_count": 16,
   "metadata": {},
   "outputs": [
    {
     "data": {
      "image/png": "[encoded data removed]",
      "text/plain": [
       "<Figure size 600x600 with 2 Axes>"
      ]
     },
     "metadata": {},
     "output_type": "display_data"
    }
   ],
   "source": [
    "import numpy as np\n",
    "import matplotlib.pyplot as plt\n",
    "from matplotlib.collections import LineCollection\n",
    "\n",
    "# Create the plot\n",
    "fig, ax = plt.subplots(figsize = (6,6))\n",
    "lcs = []\n",
    "for om in [-3, 3]:\n",
    "    # Generate some example data\n",
    "    vals = np.array([mixing_ratios(eta, imomega = om, reomega = 0.*eta) for eta in etas])\n",
    "    x = vals[:, 0]\n",
    "    y = vals[:, 1]+om/300\n",
    "    z = etas  # This could be any function z(x, y)\n",
    "\n",
    "    # Create segments\n",
    "    points = np.array([x, y]).T.reshape(-1, 1, 2)\n",
    "    segments = np.concatenate([points[:-1], points[1:]], axis=1)\n",
    "    # Create a LineCollection from the segments and set the colormap\n",
    "    lcs.append(LineCollection(segments, cmap='rainbow'))\n",
    "    lcs[-1].set_array(z)  # Set the values used for colormapping\n",
    "\n",
    "    ax.add_collection(lcs[-1])  # Add the LineCollection to the axes\n",
    "    ax.autoscale()\n",
    "ax.set_xlim(0, 1)\n",
    "ax.set_ylim(0, 1)\n",
    "\n",
    "plt.colorbar(lcs[0], ax=ax)  # Add colorbar, optional\n",
    "plt.show()\n"
   ]
  },
  {
   "cell_type": "code",
   "execution_count": null,
   "metadata": {},
   "outputs": [],
   "source": []
  },
  {
   "cell_type": "code",
   "execution_count": null,
   "metadata": {},
   "outputs": [],
   "source": []
  }
 ],
 "metadata": {
  "kernelspec": {
   "display_name": "Python 3",
   "language": "python",
   "name": "python3"
  },
  "language_info": {
   "codemirror_mode": {
    "name": "ipython",
    "version": 3
   },
   "file_extension": ".py",
   "mimetype": "text/x-python",
   "name": "python",
   "nbconvert_exporter": "python",
   "pygments_lexer": "ipython3",
   "version": "3.10.9"
  },
  "orig_nbformat": 4
 },
 "nbformat": 4,
 "nbformat_minor": 2
}
